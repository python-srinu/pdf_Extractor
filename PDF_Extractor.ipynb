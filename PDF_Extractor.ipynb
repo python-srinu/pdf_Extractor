{
 "cells": [
  {
   "cell_type": "code",
   "execution_count": 2,
   "id": "cad34a61",
   "metadata": {},
   "outputs": [],
   "source": [
    "import PyPDF2\n",
    "from transformers import pipeline"
   ]
  },
  {
   "cell_type": "code",
   "execution_count": 3,
   "id": "9f7645a3",
   "metadata": {},
   "outputs": [],
   "source": [
    " def extract_text_from_pdf(pdf_path):\n",
    "    text = \"\"\n",
    "    with open(pdf_path, 'rb') as file:\n",
    "        reader = PyPDF2.PdfReader(file)\n",
    "        for page_num in range(len(reader.pages)):\n",
    "            page = reader.pages[page_num]\n",
    "            text += page.extract_text()\n",
    "    return text\n",
    "\n",
    "def answer_question_from_pdf(pdf_path, question):\n",
    "    context = extract_text_from_pdf(pdf_path)\n",
    "    result = qa_pipeline(question=question, context=context)\n",
    "\n",
    "    return result['answer']"
   ]
  },
  {
   "cell_type": "code",
   "execution_count": 4,
   "id": "b4bf34d4",
   "metadata": {},
   "outputs": [
    {
     "name": "stderr",
     "output_type": "stream",
     "text": [
      "Some weights of the model checkpoint at bert-large-uncased-whole-word-masking-finetuned-squad were not used when initializing BertForQuestionAnswering: ['bert.pooler.dense.weight', 'bert.pooler.dense.bias']\n",
      "- This IS expected if you are initializing BertForQuestionAnswering from the checkpoint of a model trained on another task or with another architecture (e.g. initializing a BertForSequenceClassification model from a BertForPreTraining model).\n",
      "- This IS NOT expected if you are initializing BertForQuestionAnswering from the checkpoint of a model that you expect to be exactly identical (initializing a BertForSequenceClassification model from a BertForSequenceClassification model).\n"
     ]
    }
   ],
   "source": [
    "qa_pipeline = pipeline(\"question-answering\", model=\"bert-large-uncased-whole-word-masking-finetuned-squad\")"
   ]
  },
  {
   "cell_type": "code",
   "execution_count": 5,
   "id": "54d57ea9",
   "metadata": {},
   "outputs": [
    {
     "name": "stdout",
     "output_type": "stream",
     "text": [
      "Question: what is the name of person?\n",
      "Answer: BATTULA SRINIVASA REDDY\n"
     ]
    }
   ],
   "source": [
    "# Example usage\n",
    "pdf_path = \"Battula_Srinivasa_Resume_Updated.pdf\"\n",
    "question = \"what is the name of person?\"\n",
    "name = answer_question_from_pdf(pdf_path, question)\n",
    "\n",
    "print(f\"Question: {question}\")\n",
    "print(f\"Answer: {name}\")"
   ]
  },
  {
   "cell_type": "code",
   "execution_count": 10,
   "id": "546d6e68",
   "metadata": {},
   "outputs": [
    {
     "name": "stdout",
     "output_type": "stream",
     "text": [
      "Question: What is his skills?\n",
      "Answer: Analytical  skills  and adaptability,  Leadership,  Problem  Solving,  Decision  making\n"
     ]
    }
   ],
   "source": [
    "question = \"What is his skills?\"\n",
    "name = answer_question_from_pdf(pdf_path, question)\n",
    "\n",
    "print(f\"Question: {question}\")\n",
    "print(f\"Answer: {name}\")"
   ]
  },
  {
   "cell_type": "code",
   "execution_count": null,
   "id": "8a9a0dec",
   "metadata": {},
   "outputs": [],
   "source": []
  }
 ],
 "metadata": {
  "kernelspec": {
   "display_name": "Python 3 (ipykernel)",
   "language": "python",
   "name": "python3"
  },
  "language_info": {
   "codemirror_mode": {
    "name": "ipython",
    "version": 3
   },
   "file_extension": ".py",
   "mimetype": "text/x-python",
   "name": "python",
   "nbconvert_exporter": "python",
   "pygments_lexer": "ipython3",
   "version": "3.11.3"
  }
 },
 "nbformat": 4,
 "nbformat_minor": 5
}
